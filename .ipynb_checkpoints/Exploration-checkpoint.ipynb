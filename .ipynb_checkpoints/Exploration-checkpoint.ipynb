{
 "cells": [
  {
   "cell_type": "code",
   "execution_count": 2,
   "metadata": {},
   "outputs": [
    {
     "ename": "TypeError",
     "evalue": "sequence item 0: expected str instance, set found",
     "output_type": "error",
     "traceback": [
      "\u001b[1;31m---------------------------------------------------------------------------\u001b[0m",
      "\u001b[1;31mTypeError\u001b[0m                                 Traceback (most recent call last)",
      "\u001b[1;32m<ipython-input-2-b6d48c9be7c0>\u001b[0m in \u001b[0;36m<module>\u001b[1;34m\u001b[0m\n\u001b[0;32m      3\u001b[0m \u001b[1;32mimport\u001b[0m \u001b[0mmatplotlib\u001b[0m\u001b[1;33m.\u001b[0m\u001b[0mpyplot\u001b[0m \u001b[1;32mas\u001b[0m \u001b[0mplt\u001b[0m\u001b[1;33m\u001b[0m\u001b[1;33m\u001b[0m\u001b[0m\n\u001b[0;32m      4\u001b[0m \u001b[1;32mimport\u001b[0m \u001b[0mseaborn\u001b[0m \u001b[1;32mas\u001b[0m \u001b[0msns\u001b[0m\u001b[1;33m\u001b[0m\u001b[1;33m\u001b[0m\u001b[0m\n\u001b[1;32m----> 5\u001b[1;33m \u001b[1;32mimport\u001b[0m \u001b[0mpreprocessing\u001b[0m\u001b[1;33m\u001b[0m\u001b[1;33m\u001b[0m\u001b[0m\n\u001b[0m\u001b[0;32m      6\u001b[0m \u001b[1;33m\u001b[0m\u001b[0m\n\u001b[0;32m      7\u001b[0m \u001b[1;32mfrom\u001b[0m \u001b[0mpandas_datareader\u001b[0m \u001b[1;32mimport\u001b[0m \u001b[0mwb\u001b[0m\u001b[1;33m\u001b[0m\u001b[1;33m\u001b[0m\u001b[0m\n",
      "\u001b[1;32m~\\Documents\\Jupyter\\Reaktor\\preprocessing.py\u001b[0m in \u001b[0;36m<module>\u001b[1;34m\u001b[0m\n\u001b[0;32m     13\u001b[0m \u001b[0myears\u001b[0m \u001b[1;33m=\u001b[0m \u001b[0mlist\u001b[0m\u001b[1;33m(\u001b[0m\u001b[0mrange\u001b[0m\u001b[1;33m(\u001b[0m\u001b[1;36m1960\u001b[0m\u001b[1;33m,\u001b[0m \u001b[1;36m2016\u001b[0m\u001b[1;33m)\u001b[0m\u001b[1;33m)\u001b[0m\u001b[1;33m\u001b[0m\u001b[1;33m\u001b[0m\u001b[0m\n\u001b[0;32m     14\u001b[0m \u001b[1;33m\u001b[0m\u001b[0m\n\u001b[1;32m---> 15\u001b[1;33m \u001b[0mdata\u001b[0m \u001b[1;33m=\u001b[0m \u001b[0mwb\u001b[0m\u001b[1;33m.\u001b[0m\u001b[0mdownload\u001b[0m\u001b[1;33m(\u001b[0m\u001b[0mindicator\u001b[0m\u001b[1;33m=\u001b[0m\u001b[1;33m[\u001b[0m\u001b[1;34m'NY.GDP.MKTP.KD'\u001b[0m\u001b[1;33m,\u001b[0m \u001b[1;34m'EN.ATM.CO2E.KT'\u001b[0m\u001b[1;33m]\u001b[0m\u001b[1;33m,\u001b[0m \u001b[0mcountry\u001b[0m\u001b[1;33m=\u001b[0m\u001b[0mcountries\u001b[0m\u001b[1;33m,\u001b[0m \u001b[0mstart\u001b[0m\u001b[1;33m=\u001b[0m\u001b[1;36m1991\u001b[0m\u001b[1;33m,\u001b[0m \u001b[0mend\u001b[0m\u001b[1;33m=\u001b[0m\u001b[1;36m2015\u001b[0m\u001b[1;33m)\u001b[0m\u001b[1;33m\u001b[0m\u001b[1;33m\u001b[0m\u001b[0m\n\u001b[0m\u001b[0;32m     16\u001b[0m \u001b[1;33m\u001b[0m\u001b[0m\n\u001b[0;32m     17\u001b[0m \u001b[0mall_countries\u001b[0m \u001b[1;33m=\u001b[0m \u001b[0mwb\u001b[0m\u001b[1;33m.\u001b[0m\u001b[0mget_countries\u001b[0m\u001b[1;33m(\u001b[0m\u001b[1;33m)\u001b[0m\u001b[1;33m[\u001b[0m\u001b[1;33m[\u001b[0m\u001b[1;34m'name'\u001b[0m\u001b[1;33m,\u001b[0m \u001b[1;34m'iso3c'\u001b[0m\u001b[1;33m]\u001b[0m\u001b[1;33m]\u001b[0m\u001b[1;33m\u001b[0m\u001b[1;33m\u001b[0m\u001b[0m\n",
      "\u001b[1;32mc:\\users\\danie\\appdata\\local\\programs\\python\\python37-32\\lib\\site-packages\\pandas_datareader\\wb.py\u001b[0m in \u001b[0;36mdownload\u001b[1;34m(country, indicator, start, end, freq, errors, **kwargs)\u001b[0m\n\u001b[0;32m    387\u001b[0m     return WorldBankReader(symbols=indicator, countries=country,\n\u001b[0;32m    388\u001b[0m                            \u001b[0mstart\u001b[0m\u001b[1;33m=\u001b[0m\u001b[0mstart\u001b[0m\u001b[1;33m,\u001b[0m \u001b[0mend\u001b[0m\u001b[1;33m=\u001b[0m\u001b[0mend\u001b[0m\u001b[1;33m,\u001b[0m \u001b[0mfreq\u001b[0m\u001b[1;33m=\u001b[0m\u001b[0mfreq\u001b[0m\u001b[1;33m,\u001b[0m \u001b[0merrors\u001b[0m\u001b[1;33m=\u001b[0m\u001b[0merrors\u001b[0m\u001b[1;33m,\u001b[0m\u001b[1;33m\u001b[0m\u001b[1;33m\u001b[0m\u001b[0m\n\u001b[1;32m--> 389\u001b[1;33m                            **kwargs).read()\n\u001b[0m\u001b[0;32m    390\u001b[0m \u001b[1;33m\u001b[0m\u001b[0m\n\u001b[0;32m    391\u001b[0m \u001b[1;33m\u001b[0m\u001b[0m\n",
      "\u001b[1;32mc:\\users\\danie\\appdata\\local\\programs\\python\\python37-32\\lib\\site-packages\\pandas_datareader\\wb.py\u001b[0m in \u001b[0;36m__init__\u001b[1;34m(self, symbols, countries, start, end, freq, retry_count, pause, session, errors)\u001b[0m\n\u001b[0;32m    127\u001b[0m         \u001b[1;31m# Validate the input\u001b[0m\u001b[1;33m\u001b[0m\u001b[1;33m\u001b[0m\u001b[1;33m\u001b[0m\u001b[0m\n\u001b[0;32m    128\u001b[0m         \u001b[1;32mif\u001b[0m \u001b[0mlen\u001b[0m\u001b[1;33m(\u001b[0m\u001b[0mbad_countries\u001b[0m\u001b[1;33m)\u001b[0m \u001b[1;33m>\u001b[0m \u001b[1;36m0\u001b[0m\u001b[1;33m:\u001b[0m\u001b[1;33m\u001b[0m\u001b[1;33m\u001b[0m\u001b[0m\n\u001b[1;32m--> 129\u001b[1;33m             \u001b[0mtmp\u001b[0m \u001b[1;33m=\u001b[0m \u001b[1;34m\", \"\u001b[0m\u001b[1;33m.\u001b[0m\u001b[0mjoin\u001b[0m\u001b[1;33m(\u001b[0m\u001b[0mbad_countries\u001b[0m\u001b[1;33m)\u001b[0m\u001b[1;33m\u001b[0m\u001b[1;33m\u001b[0m\u001b[0m\n\u001b[0m\u001b[0;32m    130\u001b[0m             \u001b[1;32mif\u001b[0m \u001b[0merrors\u001b[0m \u001b[1;33m==\u001b[0m \u001b[1;34m'raise'\u001b[0m\u001b[1;33m:\u001b[0m\u001b[1;33m\u001b[0m\u001b[1;33m\u001b[0m\u001b[0m\n\u001b[0;32m    131\u001b[0m                 \u001b[1;32mraise\u001b[0m \u001b[0mValueError\u001b[0m\u001b[1;33m(\u001b[0m\u001b[1;34m\"Invalid Country Code(s): %s\"\u001b[0m \u001b[1;33m%\u001b[0m \u001b[0mtmp\u001b[0m\u001b[1;33m)\u001b[0m\u001b[1;33m\u001b[0m\u001b[1;33m\u001b[0m\u001b[0m\n",
      "\u001b[1;31mTypeError\u001b[0m: sequence item 0: expected str instance, set found"
     ]
    }
   ],
   "source": [
    "import numpy as np\n",
    "import pandas as pd\n",
    "import matplotlib.pyplot as plt\n",
    "import seaborn as sns\n",
    "# import preprocessing\n",
    "\n",
    "from pandas_datareader import wb"
   ]
  },
  {
   "cell_type": "code",
   "execution_count": null,
   "metadata": {},
   "outputs": [],
   "source": [
    "# * Hiilidioksipäästödata on peräisin [täältä](https://data.worldbank.org/indicator/EN.ATM.CO2E.KT). \n",
    "# * BKT-data on peräisin [täältä](https://data.worldbank.org/indicator/NY.GDP.MKTP.CD). "
   ]
  },
  {
   "cell_type": "markdown",
   "metadata": {},
   "source": [
    "Lämpötiladata on peräisin [täältä](http://sdwebx.worldbank.org/climateportal/index.cfm?page=downscaled_data_download&menu=historical). \n",
    "\n",
    "Päästö- ja BKT-datan lukemisen osalta hyödynsin Pythonin olemassaolevaa rajapintaa Maailmanpankin datan lukemiseen. \n",
    "\n",
    "Koska yhteen ladattavaan tiedostoon oli mahdollista sisällyttää lämpötiladata 30 maan osalta, päätin sovelluskehityksen tässä vaiheessa rajautua ainoastaan EU-valtioihin, Iso-Britannia mukaan lukien. Päätin aloittaa tarkastelun vuodesta 1991, koska sitä vanhempaa dataa ei ollut entisen itäblokin maiden osalta saatavilla.   "
   ]
  },
  {
   "cell_type": "code",
   "execution_count": 40,
   "metadata": {},
   "outputs": [],
   "source": [
    "temperatures = pd.read_excel(\"data/Temperatures.xls\")"
   ]
  },
  {
   "cell_type": "code",
   "execution_count": 25,
   "metadata": {},
   "outputs": [
    {
     "name": "stdout",
     "output_type": "stream",
     "text": [
      "Help on function download in module pandas_datareader.wb:\n",
      "\n",
      "download(country=None, indicator=None, start=2003, end=2005, freq=None, errors='warn', **kwargs)\n",
      "    Download data series from the World Bank's World Development Indicators\n",
      "    \n",
      "    Parameters\n",
      "    ----------\n",
      "    indicator: string or list of strings\n",
      "        taken from the ``id`` field in ``WDIsearch()``\n",
      "    country: string or list of strings.\n",
      "        ``all`` downloads data for all countries\n",
      "        2 or 3 character ISO country codes select individual\n",
      "        countries (e.g.``US``,``CA``) or (e.g.``USA``,``CAN``).  The codes\n",
      "        can be mixed.\n",
      "    \n",
      "        The two ISO lists of countries, provided by wikipedia, are hardcoded\n",
      "        into pandas as of 11/10/2014.\n",
      "    start: int\n",
      "        First year of the data series\n",
      "    end: int\n",
      "        Last year of the data series (inclusive)\n",
      "    freq: str\n",
      "        frequency or periodicity of the data to be retrieved (e.g. 'M' for\n",
      "        monthly, 'Q' for quarterly, and 'A' for annual). None defaults to\n",
      "        annual.\n",
      "    errors: str {'ignore', 'warn', 'raise'}, default 'warn'\n",
      "        Country codes are validated against a hardcoded list.  This controls\n",
      "        the outcome of that validation, and attempts to also apply\n",
      "        to the results from world bank.\n",
      "        errors='raise', will raise a ValueError on a bad country code.\n",
      "    kwargs:\n",
      "        keywords passed to WorldBankReader\n",
      "    \n",
      "    Returns\n",
      "    -------\n",
      "    data : DataFrame\n",
      "        DataFrame with columns country, iso_code, year, indicator value\n",
      "\n",
      "None\n"
     ]
    }
   ],
   "source": [
    "print(help(wb.search))"
   ]
  },
  {
   "cell_type": "code",
   "execution_count": 37,
   "metadata": {},
   "outputs": [],
   "source": [
    "data = wb.download(indicator=['NY.GDP.MKTP.KD', 'EN.ATM.CO2E.KT'], country='all', start=1990, end=2015)"
   ]
  },
  {
   "cell_type": "code",
   "execution_count": 38,
   "metadata": {},
   "outputs": [
    {
     "data": {
      "text/html": [
       "<div>\n",
       "<style scoped>\n",
       "    .dataframe tbody tr th:only-of-type {\n",
       "        vertical-align: middle;\n",
       "    }\n",
       "\n",
       "    .dataframe tbody tr th {\n",
       "        vertical-align: top;\n",
       "    }\n",
       "\n",
       "    .dataframe thead th {\n",
       "        text-align: right;\n",
       "    }\n",
       "</style>\n",
       "<table border=\"1\" class=\"dataframe\">\n",
       "  <thead>\n",
       "    <tr style=\"text-align: right;\">\n",
       "      <th></th>\n",
       "      <th></th>\n",
       "      <th>NY.GDP.MKTP.KD</th>\n",
       "      <th>EN.ATM.CO2E.KT</th>\n",
       "    </tr>\n",
       "    <tr>\n",
       "      <th>country</th>\n",
       "      <th>year</th>\n",
       "      <th></th>\n",
       "      <th></th>\n",
       "    </tr>\n",
       "  </thead>\n",
       "  <tbody>\n",
       "    <tr>\n",
       "      <th rowspan=\"5\" valign=\"top\">Arab World</th>\n",
       "      <th>2015</th>\n",
       "      <td>2.546943e+12</td>\n",
       "      <td>NaN</td>\n",
       "    </tr>\n",
       "    <tr>\n",
       "      <th>2014</th>\n",
       "      <td>2.464565e+12</td>\n",
       "      <td>1.895700e+06</td>\n",
       "    </tr>\n",
       "    <tr>\n",
       "      <th>2013</th>\n",
       "      <td>2.405558e+12</td>\n",
       "      <td>1.775096e+06</td>\n",
       "    </tr>\n",
       "    <tr>\n",
       "      <th>2012</th>\n",
       "      <td>2.332433e+12</td>\n",
       "      <td>1.796962e+06</td>\n",
       "    </tr>\n",
       "    <tr>\n",
       "      <th>2011</th>\n",
       "      <td>2.186061e+12</td>\n",
       "      <td>1.655808e+06</td>\n",
       "    </tr>\n",
       "  </tbody>\n",
       "</table>\n",
       "</div>"
      ],
      "text/plain": [
       "                 NY.GDP.MKTP.KD  EN.ATM.CO2E.KT\n",
       "country    year                                \n",
       "Arab World 2015    2.546943e+12             NaN\n",
       "           2014    2.464565e+12    1.895700e+06\n",
       "           2013    2.405558e+12    1.775096e+06\n",
       "           2012    2.332433e+12    1.796962e+06\n",
       "           2011    2.186061e+12    1.655808e+06"
      ]
     },
     "execution_count": 38,
     "metadata": {},
     "output_type": "execute_result"
    }
   ],
   "source": [
    "data.head()"
   ]
  },
  {
   "cell_type": "code",
   "execution_count": 42,
   "metadata": {},
   "outputs": [
    {
     "name": "stdout",
     "output_type": "stream",
     "text": [
      "Index(['country', 'year', 'NY.GDP.MKTP.KD', 'EN.ATM.CO2E.KT'], dtype='object')\n"
     ]
    }
   ],
   "source": [
    "print(data.reset_index().columns)"
   ]
  },
  {
   "cell_type": "code",
   "execution_count": 10,
   "metadata": {},
   "outputs": [
    {
     "name": "stdout",
     "output_type": "stream",
     "text": [
      "Help on function download in module pandas_datareader.wb:\n",
      "\n",
      "download(country=None, indicator=None, start=2003, end=2005, freq=None, errors='warn', **kwargs)\n",
      "    Download data series from the World Bank's World Development Indicators\n",
      "    \n",
      "    Parameters\n",
      "    ----------\n",
      "    indicator: string or list of strings\n",
      "        taken from the ``id`` field in ``WDIsearch()``\n",
      "    country: string or list of strings.\n",
      "        ``all`` downloads data for all countries\n",
      "        2 or 3 character ISO country codes select individual\n",
      "        countries (e.g.``US``,``CA``) or (e.g.``USA``,``CAN``).  The codes\n",
      "        can be mixed.\n",
      "    \n",
      "        The two ISO lists of countries, provided by wikipedia, are hardcoded\n",
      "        into pandas as of 11/10/2014.\n",
      "    start: int\n",
      "        First year of the data series\n",
      "    end: int\n",
      "        Last year of the data series (inclusive)\n",
      "    freq: str\n",
      "        frequency or periodicity of the data to be retrieved (e.g. 'M' for\n",
      "        monthly, 'Q' for quarterly, and 'A' for annual). None defaults to\n",
      "        annual.\n",
      "    errors: str {'ignore', 'warn', 'raise'}, default 'warn'\n",
      "        Country codes are validated against a hardcoded list.  This controls\n",
      "        the outcome of that validation, and attempts to also apply\n",
      "        to the results from world bank.\n",
      "        errors='raise', will raise a ValueError on a bad country code.\n",
      "    kwargs:\n",
      "        keywords passed to WorldBankReader\n",
      "    \n",
      "    Returns\n",
      "    -------\n",
      "    data : DataFrame\n",
      "        DataFrame with columns country, iso_code, year, indicator value\n",
      "\n",
      "None\n"
     ]
    }
   ],
   "source": [
    "print(help(wb.download))"
   ]
  },
  {
   "cell_type": "code",
   "execution_count": 6,
   "metadata": {},
   "outputs": [
    {
     "data": {
      "text/html": [
       "<div>\n",
       "<style scoped>\n",
       "    .dataframe tbody tr th:only-of-type {\n",
       "        vertical-align: middle;\n",
       "    }\n",
       "\n",
       "    .dataframe tbody tr th {\n",
       "        vertical-align: top;\n",
       "    }\n",
       "\n",
       "    .dataframe thead th {\n",
       "        text-align: right;\n",
       "    }\n",
       "</style>\n",
       "<table border=\"1\" class=\"dataframe\">\n",
       "  <thead>\n",
       "    <tr style=\"text-align: right;\">\n",
       "      <th></th>\n",
       "      <th>Country</th>\n",
       "      <th>Year</th>\n",
       "      <th>Average temperature</th>\n",
       "      <th>Country Name_x</th>\n",
       "      <th>Country Code_x</th>\n",
       "      <th>CO2 emissions (kt)</th>\n",
       "      <th>Country Name_y</th>\n",
       "      <th>Country Code_y</th>\n",
       "      <th>GDP (constant 2010 US$)</th>\n",
       "      <th>CO2 emissions compared to 1960 (100 percent)</th>\n",
       "      <th>GDP compared to 1960 (100 percent)</th>\n",
       "    </tr>\n",
       "  </thead>\n",
       "  <tbody>\n",
       "    <tr>\n",
       "      <th>0</th>\n",
       "      <td>AUT</td>\n",
       "      <td>1960</td>\n",
       "      <td>6.195973</td>\n",
       "      <td>Austria</td>\n",
       "      <td>AUT</td>\n",
       "      <td>30821.135</td>\n",
       "      <td>Austria</td>\n",
       "      <td>AUT</td>\n",
       "      <td>9.183670e+10</td>\n",
       "      <td>100.000000</td>\n",
       "      <td>100.000000</td>\n",
       "    </tr>\n",
       "    <tr>\n",
       "      <th>1</th>\n",
       "      <td>AUT</td>\n",
       "      <td>1961</td>\n",
       "      <td>6.854883</td>\n",
       "      <td>Austria</td>\n",
       "      <td>AUT</td>\n",
       "      <td>31862.563</td>\n",
       "      <td>Austria</td>\n",
       "      <td>AUT</td>\n",
       "      <td>9.692260e+10</td>\n",
       "      <td>103.378941</td>\n",
       "      <td>105.537979</td>\n",
       "    </tr>\n",
       "    <tr>\n",
       "      <th>2</th>\n",
       "      <td>AUT</td>\n",
       "      <td>1962</td>\n",
       "      <td>5.183271</td>\n",
       "      <td>Austria</td>\n",
       "      <td>AUT</td>\n",
       "      <td>33905.082</td>\n",
       "      <td>Austria</td>\n",
       "      <td>AUT</td>\n",
       "      <td>9.948977e+10</td>\n",
       "      <td>110.005949</td>\n",
       "      <td>108.333338</td>\n",
       "    </tr>\n",
       "    <tr>\n",
       "      <th>3</th>\n",
       "      <td>AUT</td>\n",
       "      <td>1963</td>\n",
       "      <td>5.455007</td>\n",
       "      <td>Austria</td>\n",
       "      <td>AUT</td>\n",
       "      <td>36992.696</td>\n",
       "      <td>Austria</td>\n",
       "      <td>AUT</td>\n",
       "      <td>1.036069e+11</td>\n",
       "      <td>120.023795</td>\n",
       "      <td>112.816461</td>\n",
       "    </tr>\n",
       "    <tr>\n",
       "      <th>4</th>\n",
       "      <td>AUT</td>\n",
       "      <td>1964</td>\n",
       "      <td>5.992856</td>\n",
       "      <td>Austria</td>\n",
       "      <td>AUT</td>\n",
       "      <td>38943.540</td>\n",
       "      <td>Austria</td>\n",
       "      <td>AUT</td>\n",
       "      <td>1.099522e+11</td>\n",
       "      <td>126.353361</td>\n",
       "      <td>119.725740</td>\n",
       "    </tr>\n",
       "  </tbody>\n",
       "</table>\n",
       "</div>"
      ],
      "text/plain": [
       "  Country  Year  Average temperature Country Name_x Country Code_x  \\\n",
       "0     AUT  1960             6.195973        Austria            AUT   \n",
       "1     AUT  1961             6.854883        Austria            AUT   \n",
       "2     AUT  1962             5.183271        Austria            AUT   \n",
       "3     AUT  1963             5.455007        Austria            AUT   \n",
       "4     AUT  1964             5.992856        Austria            AUT   \n",
       "\n",
       "   CO2 emissions (kt) Country Name_y Country Code_y  GDP (constant 2010 US$)  \\\n",
       "0           30821.135        Austria            AUT             9.183670e+10   \n",
       "1           31862.563        Austria            AUT             9.692260e+10   \n",
       "2           33905.082        Austria            AUT             9.948977e+10   \n",
       "3           36992.696        Austria            AUT             1.036069e+11   \n",
       "4           38943.540        Austria            AUT             1.099522e+11   \n",
       "\n",
       "   CO2 emissions compared to 1960 (100 percent)  \\\n",
       "0                                    100.000000   \n",
       "1                                    103.378941   \n",
       "2                                    110.005949   \n",
       "3                                    120.023795   \n",
       "4                                    126.353361   \n",
       "\n",
       "   GDP compared to 1960 (100 percent)  \n",
       "0                          100.000000  \n",
       "1                          105.537979  \n",
       "2                          108.333338  \n",
       "3                          112.816461  \n",
       "4                          119.725740  "
      ]
     },
     "execution_count": 6,
     "metadata": {},
     "output_type": "execute_result"
    }
   ],
   "source": [
    "df = preprocessing.df\n",
    "df.head()"
   ]
  },
  {
   "cell_type": "code",
   "execution_count": 1,
   "metadata": {},
   "outputs": [
    {
     "ename": "NameError",
     "evalue": "name 'wb' is not defined",
     "output_type": "error",
     "traceback": [
      "\u001b[1;31m---------------------------------------------------------------------------\u001b[0m",
      "\u001b[1;31mNameError\u001b[0m                                 Traceback (most recent call last)",
      "\u001b[1;32m<ipython-input-1-73442bea0de2>\u001b[0m in \u001b[0;36m<module>\u001b[1;34m\u001b[0m\n\u001b[1;32m----> 1\u001b[1;33m \u001b[0mall_countries\u001b[0m \u001b[1;33m=\u001b[0m \u001b[0mwb\u001b[0m\u001b[1;33m.\u001b[0m\u001b[0mget_countries\u001b[0m\u001b[1;33m(\u001b[0m\u001b[1;33m)\u001b[0m\u001b[1;33m[\u001b[0m\u001b[1;33m[\u001b[0m\u001b[1;34m'name'\u001b[0m\u001b[1;33m,\u001b[0m \u001b[1;34m'iso3c'\u001b[0m\u001b[1;33m]\u001b[0m\u001b[1;33m]\u001b[0m\u001b[1;33m\u001b[0m\u001b[1;33m\u001b[0m\u001b[0m\n\u001b[0m",
      "\u001b[1;31mNameError\u001b[0m: name 'wb' is not defined"
     ]
    }
   ],
   "source": [
    "all_countries = wb.get_countries()[['name', 'iso3c']]"
   ]
  },
  {
   "cell_type": "code",
   "execution_count": 7,
   "metadata": {},
   "outputs": [
    {
     "name": "stdout",
     "output_type": "stream",
     "text": [
      "['Austria' 'Belgium' 'Bulgaria' 'Cyprus' 'Czech Republic' 'Germany'\n",
      " 'Denmark' 'Spain' 'Estonia' 'Finland' 'France' 'Greece' 'Croatia'\n",
      " 'Ireland' 'Italy' 'Lithuania' 'Luxembourg' 'Latvia' 'Netherlands'\n",
      " 'Poland' 'Portugal' 'Slovenia' 'Sweden']\n"
     ]
    }
   ],
   "source": [
    "print(df['Country Name_x'].unique())"
   ]
  },
  {
   "cell_type": "code",
   "execution_count": 13,
   "metadata": {},
   "outputs": [
    {
     "data": {
      "text/plain": [
       "280             NaN\n",
       "281             NaN\n",
       "282             NaN\n",
       "283             NaN\n",
       "284             NaN\n",
       "285             NaN\n",
       "286             NaN\n",
       "287             NaN\n",
       "288             NaN\n",
       "289             NaN\n",
       "290    1.534053e+12\n",
       "291    1.582110e+12\n",
       "292    1.650146e+12\n",
       "293    1.728982e+12\n",
       "294    1.744371e+12\n",
       "295    1.729252e+12\n",
       "296    1.814837e+12\n",
       "297    1.875583e+12\n",
       "298    1.932010e+12\n",
       "299    2.012196e+12\n",
       "300    2.040544e+12\n",
       "301    2.051343e+12\n",
       "302    2.043244e+12\n",
       "303    2.075372e+12\n",
       "304    2.133959e+12\n",
       "305    2.183636e+12\n",
       "306    2.233583e+12\n",
       "307    2.264901e+12\n",
       "308    2.348866e+12\n",
       "309    2.440391e+12\n",
       "310    2.568634e+12\n",
       "311    2.699846e+12\n",
       "312    2.751786e+12\n",
       "313    2.725475e+12\n",
       "314    2.792450e+12\n",
       "315    2.840972e+12\n",
       "316    2.864209e+12\n",
       "317    2.917174e+12\n",
       "318    2.974923e+12\n",
       "319    3.034038e+12\n",
       "320    3.123908e+12\n",
       "321    3.176873e+12\n",
       "322    3.176873e+12\n",
       "323    3.154320e+12\n",
       "324    3.191225e+12\n",
       "325    3.213777e+12\n",
       "326    3.332692e+12\n",
       "327    3.441356e+12\n",
       "328    3.478602e+12\n",
       "329    3.283144e+12\n",
       "330    3.417095e+12\n",
       "331    3.542160e+12\n",
       "332    3.559587e+12\n",
       "333    3.577015e+12\n",
       "334    3.646040e+12\n",
       "335    3.709598e+12\n",
       "Name: GDP (constant 2010 US$), dtype: float64"
      ]
     },
     "execution_count": 13,
     "metadata": {},
     "output_type": "execute_result"
    }
   ],
   "source": [
    "df[df['Country Name_x']=='Germany']['GDP (constant 2010 US$)']\n"
   ]
  },
  {
   "cell_type": "code",
   "execution_count": 8,
   "metadata": {},
   "outputs": [
    {
     "ename": "SyntaxError",
     "evalue": "can't assign to lambda (<ipython-input-8-4cc7f2432c7e>, line 1)",
     "output_type": "error",
     "traceback": [
      "\u001b[1;36m  File \u001b[1;32m\"<ipython-input-8-4cc7f2432c7e>\"\u001b[1;36m, line \u001b[1;32m1\u001b[0m\n\u001b[1;33m    pct_change_from_1960 = lambda df, column: df[str(column + ' percent change from 1960')] = df.groupby(['Country'])[column].apply(lambda x: x.div(x.iloc[0]).subtract(1).mul(100))\u001b[0m\n\u001b[1;37m                          ^\u001b[0m\n\u001b[1;31mSyntaxError\u001b[0m\u001b[1;31m:\u001b[0m can't assign to lambda\n"
     ]
    }
   ],
   "source": [
    "pct_change_from_1960 = lambda df, column: df[str(column + ' percent change from 1960')] = df.groupby(['Country'])[column].apply(lambda x: x.div(x.iloc[0]).subtract(1).mul(100))"
   ]
  },
  {
   "cell_type": "code",
   "execution_count": 4,
   "metadata": {},
   "outputs": [
    {
     "data": {
      "text/html": [
       "<div>\n",
       "<style scoped>\n",
       "    .dataframe tbody tr th:only-of-type {\n",
       "        vertical-align: middle;\n",
       "    }\n",
       "\n",
       "    .dataframe tbody tr th {\n",
       "        vertical-align: top;\n",
       "    }\n",
       "\n",
       "    .dataframe thead th {\n",
       "        text-align: right;\n",
       "    }\n",
       "</style>\n",
       "<table border=\"1\" class=\"dataframe\">\n",
       "  <thead>\n",
       "    <tr style=\"text-align: right;\">\n",
       "      <th></th>\n",
       "      <th>Country</th>\n",
       "      <th>Year</th>\n",
       "      <th>Average temperature</th>\n",
       "      <th>Country Name_x</th>\n",
       "      <th>Country Code_x</th>\n",
       "      <th>CO2 emissions (kt)</th>\n",
       "      <th>Country Name_y</th>\n",
       "      <th>Country Code_y</th>\n",
       "      <th>GDP (constant 2010 US$)</th>\n",
       "    </tr>\n",
       "  </thead>\n",
       "  <tbody>\n",
       "    <tr>\n",
       "      <th>0</th>\n",
       "      <td>AUT</td>\n",
       "      <td>1960</td>\n",
       "      <td>6.195973</td>\n",
       "      <td>Austria</td>\n",
       "      <td>AUT</td>\n",
       "      <td>30821.135</td>\n",
       "      <td>Austria</td>\n",
       "      <td>AUT</td>\n",
       "      <td>9.183670e+10</td>\n",
       "    </tr>\n",
       "    <tr>\n",
       "      <th>1</th>\n",
       "      <td>AUT</td>\n",
       "      <td>1961</td>\n",
       "      <td>6.854883</td>\n",
       "      <td>Austria</td>\n",
       "      <td>AUT</td>\n",
       "      <td>31862.563</td>\n",
       "      <td>Austria</td>\n",
       "      <td>AUT</td>\n",
       "      <td>9.692260e+10</td>\n",
       "    </tr>\n",
       "    <tr>\n",
       "      <th>2</th>\n",
       "      <td>AUT</td>\n",
       "      <td>1962</td>\n",
       "      <td>5.183271</td>\n",
       "      <td>Austria</td>\n",
       "      <td>AUT</td>\n",
       "      <td>33905.082</td>\n",
       "      <td>Austria</td>\n",
       "      <td>AUT</td>\n",
       "      <td>9.948977e+10</td>\n",
       "    </tr>\n",
       "    <tr>\n",
       "      <th>3</th>\n",
       "      <td>AUT</td>\n",
       "      <td>1963</td>\n",
       "      <td>5.455007</td>\n",
       "      <td>Austria</td>\n",
       "      <td>AUT</td>\n",
       "      <td>36992.696</td>\n",
       "      <td>Austria</td>\n",
       "      <td>AUT</td>\n",
       "      <td>1.036069e+11</td>\n",
       "    </tr>\n",
       "    <tr>\n",
       "      <th>4</th>\n",
       "      <td>AUT</td>\n",
       "      <td>1964</td>\n",
       "      <td>5.992856</td>\n",
       "      <td>Austria</td>\n",
       "      <td>AUT</td>\n",
       "      <td>38943.540</td>\n",
       "      <td>Austria</td>\n",
       "      <td>AUT</td>\n",
       "      <td>1.099522e+11</td>\n",
       "    </tr>\n",
       "  </tbody>\n",
       "</table>\n",
       "</div>"
      ],
      "text/plain": [
       "  Country  Year  Average temperature Country Name_x Country Code_x  \\\n",
       "0     AUT  1960             6.195973        Austria            AUT   \n",
       "1     AUT  1961             6.854883        Austria            AUT   \n",
       "2     AUT  1962             5.183271        Austria            AUT   \n",
       "3     AUT  1963             5.455007        Austria            AUT   \n",
       "4     AUT  1964             5.992856        Austria            AUT   \n",
       "\n",
       "   CO2 emissions (kt) Country Name_y Country Code_y  GDP (constant 2010 US$)  \n",
       "0           30821.135        Austria            AUT             9.183670e+10  \n",
       "1           31862.563        Austria            AUT             9.692260e+10  \n",
       "2           33905.082        Austria            AUT             9.948977e+10  \n",
       "3           36992.696        Austria            AUT             1.036069e+11  \n",
       "4           38943.540        Austria            AUT             1.099522e+11  "
      ]
     },
     "execution_count": 4,
     "metadata": {},
     "output_type": "execute_result"
    }
   ],
   "source": [
    "df.head()"
   ]
  },
  {
   "cell_type": "code",
   "execution_count": 37,
   "metadata": {},
   "outputs": [
    {
     "data": {
      "text/plain": [
       "0        True\n",
       "1       False\n",
       "2       False\n",
       "3       False\n",
       "4       False\n",
       "5        True\n",
       "6       False\n",
       "7       False\n",
       "8       False\n",
       "9       False\n",
       "10       True\n",
       "11      False\n",
       "12      False\n",
       "13      False\n",
       "14      False\n",
       "15       True\n",
       "16      False\n",
       "17      False\n",
       "18      False\n",
       "19      False\n",
       "20       True\n",
       "21      False\n",
       "22      False\n",
       "23      False\n",
       "24      False\n",
       "25       True\n",
       "26      False\n",
       "27      False\n",
       "28      False\n",
       "29      False\n",
       "        ...  \n",
       "1258    False\n",
       "1259    False\n",
       "1260    False\n",
       "1261    False\n",
       "1262     True\n",
       "1263    False\n",
       "1264    False\n",
       "1265    False\n",
       "1266    False\n",
       "1267     True\n",
       "1268    False\n",
       "1269    False\n",
       "1270    False\n",
       "1271    False\n",
       "1272     True\n",
       "1273    False\n",
       "1274    False\n",
       "1275    False\n",
       "1276    False\n",
       "1277     True\n",
       "1278    False\n",
       "1279    False\n",
       "1280    False\n",
       "1281    False\n",
       "1282     True\n",
       "1283    False\n",
       "1284    False\n",
       "1285    False\n",
       "1286    False\n",
       "1287     True\n",
       "Name: Year, Length: 1288, dtype: bool"
      ]
     },
     "execution_count": 37,
     "metadata": {},
     "output_type": "execute_result"
    }
   ],
   "source": [
    "df['Year'].mod(5).eq(0)"
   ]
  },
  {
   "cell_type": "code",
   "execution_count": 46,
   "metadata": {},
   "outputs": [
    {
     "data": {
      "text/plain": [
       "array([1960, 1965, 1970, 1975, 1980, 1985, 1990, 1995, 2000, 2005, 2010,\n",
       "       2015], dtype=int64)"
      ]
     },
     "execution_count": 46,
     "metadata": {},
     "output_type": "execute_result"
    }
   ],
   "source": [
    "df[df['Year'].mod(5).eq(0)]['Year'].unique()"
   ]
  },
  {
   "cell_type": "code",
   "execution_count": 30,
   "metadata": {},
   "outputs": [
    {
     "ename": "TypeError",
     "evalue": "can only concatenate str (not \"int\") to str",
     "output_type": "error",
     "traceback": [
      "\u001b[1;31m---------------------------------------------------------------------------\u001b[0m",
      "\u001b[1;31mTypeError\u001b[0m                                 Traceback (most recent call last)",
      "\u001b[1;32m<ipython-input-30-01cecf6e7fbe>\u001b[0m in \u001b[0;36m<module>\u001b[1;34m\u001b[0m\n\u001b[1;32m----> 1\u001b[1;33m \u001b[0mprint\u001b[0m\u001b[1;33m(\u001b[0m\u001b[1;34m\"sössö\"\u001b[0m \u001b[1;33m+\u001b[0m \u001b[1;36m2\u001b[0m\u001b[1;33m)\u001b[0m\u001b[1;33m\u001b[0m\u001b[1;33m\u001b[0m\u001b[0m\n\u001b[0m",
      "\u001b[1;31mTypeError\u001b[0m: can only concatenate str (not \"int\") to str"
     ]
    }
   ],
   "source": [
    "print(\"sössö\" + 2)"
   ]
  },
  {
   "cell_type": "code",
   "execution_count": 49,
   "metadata": {},
   "outputs": [
    {
     "data": {
      "text/plain": [
       "'pöö hörö'"
      ]
     },
     "execution_count": 49,
     "metadata": {},
     "output_type": "execute_result"
    }
   ],
   "source": [
    "str(\"pöö\" + \" \" + \"hörö\")"
   ]
  },
  {
   "cell_type": "code",
   "execution_count": 26,
   "metadata": {},
   "outputs": [],
   "source": [
    "df['CO2 emissions (kt) percent change from 1960'] = df.groupby(['Country'])['CO2 emissions (kt)'].apply(\n",
    "                                                    lambda x: x.div(x.iloc[0]).subtract(1).mul(100))"
   ]
  },
  {
   "cell_type": "code",
   "execution_count": 27,
   "metadata": {},
   "outputs": [
    {
     "data": {
      "text/html": [
       "<div>\n",
       "<style scoped>\n",
       "    .dataframe tbody tr th:only-of-type {\n",
       "        vertical-align: middle;\n",
       "    }\n",
       "\n",
       "    .dataframe tbody tr th {\n",
       "        vertical-align: top;\n",
       "    }\n",
       "\n",
       "    .dataframe thead th {\n",
       "        text-align: right;\n",
       "    }\n",
       "</style>\n",
       "<table border=\"1\" class=\"dataframe\">\n",
       "  <thead>\n",
       "    <tr style=\"text-align: right;\">\n",
       "      <th></th>\n",
       "      <th>Country</th>\n",
       "      <th>Year</th>\n",
       "      <th>Average temperature</th>\n",
       "      <th>Country Name_x</th>\n",
       "      <th>Country Code_x</th>\n",
       "      <th>CO2 emissions (kt)</th>\n",
       "      <th>Country Name_y</th>\n",
       "      <th>Country Code_y</th>\n",
       "      <th>GDP (constant 2010 US$)</th>\n",
       "      <th>CO2 emissions percent change from 1960</th>\n",
       "      <th>CO2 emissions (kt) percent change from 1960</th>\n",
       "    </tr>\n",
       "  </thead>\n",
       "  <tbody>\n",
       "    <tr>\n",
       "      <th>0</th>\n",
       "      <td>AUT</td>\n",
       "      <td>1960</td>\n",
       "      <td>6.195973</td>\n",
       "      <td>Austria</td>\n",
       "      <td>AUT</td>\n",
       "      <td>30821.135</td>\n",
       "      <td>Austria</td>\n",
       "      <td>AUT</td>\n",
       "      <td>9.183670e+10</td>\n",
       "      <td>0.000000</td>\n",
       "      <td>0.000000</td>\n",
       "    </tr>\n",
       "    <tr>\n",
       "      <th>1</th>\n",
       "      <td>AUT</td>\n",
       "      <td>1961</td>\n",
       "      <td>6.854883</td>\n",
       "      <td>Austria</td>\n",
       "      <td>AUT</td>\n",
       "      <td>31862.563</td>\n",
       "      <td>Austria</td>\n",
       "      <td>AUT</td>\n",
       "      <td>9.692260e+10</td>\n",
       "      <td>3.378941</td>\n",
       "      <td>3.378941</td>\n",
       "    </tr>\n",
       "    <tr>\n",
       "      <th>2</th>\n",
       "      <td>AUT</td>\n",
       "      <td>1962</td>\n",
       "      <td>5.183271</td>\n",
       "      <td>Austria</td>\n",
       "      <td>AUT</td>\n",
       "      <td>33905.082</td>\n",
       "      <td>Austria</td>\n",
       "      <td>AUT</td>\n",
       "      <td>9.948977e+10</td>\n",
       "      <td>10.005949</td>\n",
       "      <td>10.005949</td>\n",
       "    </tr>\n",
       "    <tr>\n",
       "      <th>3</th>\n",
       "      <td>AUT</td>\n",
       "      <td>1963</td>\n",
       "      <td>5.455007</td>\n",
       "      <td>Austria</td>\n",
       "      <td>AUT</td>\n",
       "      <td>36992.696</td>\n",
       "      <td>Austria</td>\n",
       "      <td>AUT</td>\n",
       "      <td>1.036069e+11</td>\n",
       "      <td>20.023795</td>\n",
       "      <td>20.023795</td>\n",
       "    </tr>\n",
       "    <tr>\n",
       "      <th>4</th>\n",
       "      <td>AUT</td>\n",
       "      <td>1964</td>\n",
       "      <td>5.992856</td>\n",
       "      <td>Austria</td>\n",
       "      <td>AUT</td>\n",
       "      <td>38943.540</td>\n",
       "      <td>Austria</td>\n",
       "      <td>AUT</td>\n",
       "      <td>1.099522e+11</td>\n",
       "      <td>26.353361</td>\n",
       "      <td>26.353361</td>\n",
       "    </tr>\n",
       "  </tbody>\n",
       "</table>\n",
       "</div>"
      ],
      "text/plain": [
       "  Country  Year  Average temperature Country Name_x Country Code_x  \\\n",
       "0     AUT  1960             6.195973        Austria            AUT   \n",
       "1     AUT  1961             6.854883        Austria            AUT   \n",
       "2     AUT  1962             5.183271        Austria            AUT   \n",
       "3     AUT  1963             5.455007        Austria            AUT   \n",
       "4     AUT  1964             5.992856        Austria            AUT   \n",
       "\n",
       "   CO2 emissions (kt) Country Name_y Country Code_y  GDP (constant 2010 US$)  \\\n",
       "0           30821.135        Austria            AUT             9.183670e+10   \n",
       "1           31862.563        Austria            AUT             9.692260e+10   \n",
       "2           33905.082        Austria            AUT             9.948977e+10   \n",
       "3           36992.696        Austria            AUT             1.036069e+11   \n",
       "4           38943.540        Austria            AUT             1.099522e+11   \n",
       "\n",
       "   CO2 emissions percent change from 1960  \\\n",
       "0                                0.000000   \n",
       "1                                3.378941   \n",
       "2                               10.005949   \n",
       "3                               20.023795   \n",
       "4                               26.353361   \n",
       "\n",
       "   CO2 emissions (kt) percent change from 1960  \n",
       "0                                     0.000000  \n",
       "1                                     3.378941  \n",
       "2                                    10.005949  \n",
       "3                                    20.023795  \n",
       "4                                    26.353361  "
      ]
     },
     "execution_count": 27,
     "metadata": {},
     "output_type": "execute_result"
    }
   ],
   "source": [
    "df.head()"
   ]
  },
  {
   "cell_type": "code",
   "execution_count": null,
   "metadata": {},
   "outputs": [],
   "source": [
    "def pct_change(column):\n",
    "    df['pct'] = 100 * (1 - df.iloc[0][column] / df[column])\n",
    "    return df\n",
    "\n",
    "df.groupby('').apply(pct_change)"
   ]
  },
  {
   "cell_type": "code",
   "execution_count": 4,
   "metadata": {},
   "outputs": [
    {
     "name": "stdout",
     "output_type": "stream",
     "text": [
      "<class 'pandas.core.frame.DataFrame'>\n",
      "Int64Index: 1288 entries, 0 to 1287\n",
      "Data columns (total 9 columns):\n",
      "Country                    1288 non-null object\n",
      "Year                       1288 non-null int64\n",
      "Average temperature        1288 non-null float64\n",
      "Country Name_x             1288 non-null object\n",
      "Country Code_x             1288 non-null object\n",
      "CO2 emissions (kt)         1042 non-null float64\n",
      "Country Name_y             1288 non-null object\n",
      "Country Code_y             1288 non-null object\n",
      "GDP (constant 2010 US$)    998 non-null float64\n",
      "dtypes: float64(3), int64(1), object(5)\n",
      "memory usage: 75.5+ KB\n"
     ]
    }
   ],
   "source": [
    "df.info()"
   ]
  },
  {
   "cell_type": "code",
   "execution_count": 150,
   "metadata": {},
   "outputs": [],
   "source": [
    "# filter_out = lambda df, column, values: df[df[column].isin(values)]"
   ]
  },
  {
   "cell_type": "code",
   "execution_count": 151,
   "metadata": {},
   "outputs": [],
   "source": [
    "temperatures.columns = ['Average temperature', 'Year', 'Month', 'Country', 'ISO3', 'ISO2']\n",
    "temperatures = pd.DataFrame(temperatures.groupby(['Country', 'Year'])['Average temperature'].mean())\n",
    "temperatures = temperatures.reset_index()"
   ]
  },
  {
   "cell_type": "code",
   "execution_count": 152,
   "metadata": {},
   "outputs": [],
   "source": [
    "countries = set(temperatures['Country'])\n",
    "years = list(range(1960, 2016))"
   ]
  },
  {
   "cell_type": "code",
   "execution_count": 153,
   "metadata": {},
   "outputs": [],
   "source": [
    "def tidy(df):\n",
    "    df = df.melt(id_vars=['Country Name', 'Country Code'], value_vars=years, \n",
    "                           var_name='Year', value_name=df['Indicator Name'][0])\n",
    "    df['Year'] = df['Year'].apply(pd.to_numeric, errors ='coerce')\n",
    "    df = filter_out(df, 'Country Code', countries)\n",
    "    df = filter_out(df, 'Year', years)\n",
    "    return df"
   ]
  },
  {
   "cell_type": "code",
   "execution_count": 154,
   "metadata": {},
   "outputs": [],
   "source": [
    "emissions= tidy(emissions)\n",
    "gdp = tidy(gdp)\n",
    "temperatures = filter_out(temperatures, 'Year', years)"
   ]
  },
  {
   "cell_type": "code",
   "execution_count": 155,
   "metadata": {},
   "outputs": [
    {
     "name": "stdout",
     "output_type": "stream",
     "text": [
      "(1288, 4)\n",
      "(1288, 4)\n"
     ]
    }
   ],
   "source": [
    "print(emissions.shape)\n",
    "print(gdp.shape)"
   ]
  },
  {
   "cell_type": "code",
   "execution_count": 156,
   "metadata": {},
   "outputs": [],
   "source": [
    "df = temperatures.merge(emissions, left_on=['Country', 'Year'], right_on=['Country Code', 'Year'])\n",
    "df = df.merge(gdp, left_on=['Country', 'Year'], right_on=['Country Code', 'Year'])"
   ]
  },
  {
   "cell_type": "code",
   "execution_count": 157,
   "metadata": {},
   "outputs": [
    {
     "data": {
      "text/html": [
       "<div>\n",
       "<style scoped>\n",
       "    .dataframe tbody tr th:only-of-type {\n",
       "        vertical-align: middle;\n",
       "    }\n",
       "\n",
       "    .dataframe tbody tr th {\n",
       "        vertical-align: top;\n",
       "    }\n",
       "\n",
       "    .dataframe thead th {\n",
       "        text-align: right;\n",
       "    }\n",
       "</style>\n",
       "<table border=\"1\" class=\"dataframe\">\n",
       "  <thead>\n",
       "    <tr style=\"text-align: right;\">\n",
       "      <th></th>\n",
       "      <th>Country</th>\n",
       "      <th>Year</th>\n",
       "      <th>Average temperature</th>\n",
       "      <th>Country Name_x</th>\n",
       "      <th>Country Code_x</th>\n",
       "      <th>CO2 emissions (kt)</th>\n",
       "      <th>Country Name_y</th>\n",
       "      <th>Country Code_y</th>\n",
       "      <th>GDP (constant 2010 US$)</th>\n",
       "    </tr>\n",
       "  </thead>\n",
       "  <tbody>\n",
       "    <tr>\n",
       "      <th>0</th>\n",
       "      <td>AUT</td>\n",
       "      <td>1960</td>\n",
       "      <td>6.195973</td>\n",
       "      <td>Austria</td>\n",
       "      <td>AUT</td>\n",
       "      <td>NaN</td>\n",
       "      <td>Austria</td>\n",
       "      <td>AUT</td>\n",
       "      <td>NaN</td>\n",
       "    </tr>\n",
       "    <tr>\n",
       "      <th>1</th>\n",
       "      <td>AUT</td>\n",
       "      <td>1961</td>\n",
       "      <td>6.854883</td>\n",
       "      <td>Austria</td>\n",
       "      <td>AUT</td>\n",
       "      <td>NaN</td>\n",
       "      <td>Austria</td>\n",
       "      <td>AUT</td>\n",
       "      <td>NaN</td>\n",
       "    </tr>\n",
       "    <tr>\n",
       "      <th>2</th>\n",
       "      <td>AUT</td>\n",
       "      <td>1962</td>\n",
       "      <td>5.183271</td>\n",
       "      <td>Austria</td>\n",
       "      <td>AUT</td>\n",
       "      <td>NaN</td>\n",
       "      <td>Austria</td>\n",
       "      <td>AUT</td>\n",
       "      <td>NaN</td>\n",
       "    </tr>\n",
       "    <tr>\n",
       "      <th>3</th>\n",
       "      <td>AUT</td>\n",
       "      <td>1963</td>\n",
       "      <td>5.455007</td>\n",
       "      <td>Austria</td>\n",
       "      <td>AUT</td>\n",
       "      <td>NaN</td>\n",
       "      <td>Austria</td>\n",
       "      <td>AUT</td>\n",
       "      <td>NaN</td>\n",
       "    </tr>\n",
       "    <tr>\n",
       "      <th>4</th>\n",
       "      <td>AUT</td>\n",
       "      <td>1964</td>\n",
       "      <td>5.992856</td>\n",
       "      <td>Austria</td>\n",
       "      <td>AUT</td>\n",
       "      <td>NaN</td>\n",
       "      <td>Austria</td>\n",
       "      <td>AUT</td>\n",
       "      <td>NaN</td>\n",
       "    </tr>\n",
       "  </tbody>\n",
       "</table>\n",
       "</div>"
      ],
      "text/plain": [
       "  Country  Year  Average temperature Country Name_x Country Code_x  \\\n",
       "0     AUT  1960             6.195973        Austria            AUT   \n",
       "1     AUT  1961             6.854883        Austria            AUT   \n",
       "2     AUT  1962             5.183271        Austria            AUT   \n",
       "3     AUT  1963             5.455007        Austria            AUT   \n",
       "4     AUT  1964             5.992856        Austria            AUT   \n",
       "\n",
       "   CO2 emissions (kt) Country Name_y Country Code_y  GDP (constant 2010 US$)  \n",
       "0                 NaN        Austria            AUT                      NaN  \n",
       "1                 NaN        Austria            AUT                      NaN  \n",
       "2                 NaN        Austria            AUT                      NaN  \n",
       "3                 NaN        Austria            AUT                      NaN  \n",
       "4                 NaN        Austria            AUT                      NaN  "
      ]
     },
     "execution_count": 157,
     "metadata": {},
     "output_type": "execute_result"
    }
   ],
   "source": [
    "df.head()"
   ]
  },
  {
   "cell_type": "code",
   "execution_count": null,
   "metadata": {},
   "outputs": [],
   "source": [
    "gdp.melt(id_vars=['Country Name', 'Country Code'], value_vars=years, \n",
    "                           var_name='Year', value_name=gdp['Indicator Name'][0])"
   ]
  }
 ],
 "metadata": {
  "kernelspec": {
   "display_name": "Python 3",
   "language": "python",
   "name": "python3"
  },
  "language_info": {
   "codemirror_mode": {
    "name": "ipython",
    "version": 3
   },
   "file_extension": ".py",
   "mimetype": "text/x-python",
   "name": "python",
   "nbconvert_exporter": "python",
   "pygments_lexer": "ipython3",
   "version": "3.7.1"
  }
 },
 "nbformat": 4,
 "nbformat_minor": 2
}
