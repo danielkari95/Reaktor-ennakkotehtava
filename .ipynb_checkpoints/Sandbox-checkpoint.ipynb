{
 "cells": [
  {
   "cell_type": "code",
   "execution_count": 1,
   "metadata": {},
   "outputs": [],
   "source": [
    "import dash_core_components as dcc\n",
    "import plotly.graph_objs as go"
   ]
  },
  {
   "cell_type": "code",
   "execution_count": 3,
   "metadata": {},
   "outputs": [],
   "source": [
    "import numpy as np\n",
    "import pandas as pd\n",
    "import preprocessing as pp"
   ]
  },
  {
   "cell_type": "code",
   "execution_count": 16,
   "metadata": {},
   "outputs": [],
   "source": [
    "df = pp.load_data(start=1960, end=2014)"
   ]
  },
  {
   "cell_type": "code",
   "execution_count": 34,
   "metadata": {},
   "outputs": [
    {
     "data": {
      "text/plain": [
       "array(['Algeria', 'Argentina', 'Australia', 'Austria', 'Bahamas, The',\n",
       "       'Belgium', 'Belize', 'Benin', 'Bermuda', 'Bolivia', 'Brazil',\n",
       "       'Burkina Faso', 'Cameroon', 'Canada', 'Central African Republic',\n",
       "       'Chad', 'Chile', 'China', 'Colombia', 'Congo, Dem. Rep.',\n",
       "       'Congo, Rep.', 'Costa Rica', \"Cote d'Ivoire\", 'Denmark',\n",
       "       'Dominican Republic', 'Early-demographic dividend',\n",
       "       'East Asia & Pacific',\n",
       "       'East Asia & Pacific (IDA & IBRD countries)',\n",
       "       'East Asia & Pacific (excluding high income)', 'Ecuador',\n",
       "       'Egypt, Arab Rep.', 'European Union', 'Fiji', 'Finland', 'France',\n",
       "       'Gabon', 'Ghana', 'Greece', 'Guatemala', 'Guyana', 'Haiti',\n",
       "       'Heavily indebted poor countries (HIPC)', 'High income',\n",
       "       'Honduras', 'IBRD only', 'IDA & IBRD total', 'IDA blend',\n",
       "       'IDA only', 'IDA total', 'India', 'Indonesia',\n",
       "       'Iran, Islamic Rep.', 'Israel', 'Italy', 'Japan', 'Kenya',\n",
       "       'Korea, Rep.', 'Late-demographic dividend',\n",
       "       'Latin America & Caribbean',\n",
       "       'Latin America & Caribbean (excluding high income)',\n",
       "       'Latin America & the Caribbean (IDA & IBRD countries)',\n",
       "       'Low & middle income', 'Lower middle income', 'Luxembourg',\n",
       "       'Madagascar', 'Mauritania', 'Mexico', 'Middle income', 'Myanmar',\n",
       "       'Nepal', 'Netherlands', 'Nicaragua', 'Niger', 'Nigeria',\n",
       "       'North America', 'Norway', 'OECD members', 'Pakistan', 'Panama',\n",
       "       'Papua New Guinea', 'Paraguay', 'Peru', 'Philippines', 'Portugal',\n",
       "       'Post-demographic dividend', 'Rwanda', 'Senegal', 'Sierra Leone',\n",
       "       'Singapore', 'South Africa', 'South Asia',\n",
       "       'South Asia (IDA & IBRD)', 'Spain',\n",
       "       'St. Vincent and the Grenadines', 'Sub-Saharan Africa',\n",
       "       'Sub-Saharan Africa (IDA & IBRD countries)',\n",
       "       'Sub-Saharan Africa (excluding high income)', 'Sudan', 'Suriname',\n",
       "       'Sweden', 'Thailand', 'Togo', 'Trinidad and Tobago', 'Turkey',\n",
       "       'United Kingdom', 'United States', 'Upper middle income',\n",
       "       'Uruguay', 'Venezuela, RB', 'World'], dtype=object)"
      ]
     },
     "execution_count": 34,
     "metadata": {},
     "output_type": "execute_result"
    }
   ],
   "source": [
    "df[(df['year']==1960) & (df['co2_emissions_kt'].notna()) & (df['gdp_2010'].notna())]['country'].unique()"
   ]
  },
  {
   "cell_type": "code",
   "execution_count": null,
   "metadata": {},
   "outputs": [],
   "source": []
  }
 ],
 "metadata": {
  "kernelspec": {
   "display_name": "Python 3",
   "language": "python",
   "name": "python3"
  },
  "language_info": {
   "codemirror_mode": {
    "name": "ipython",
    "version": 3
   },
   "file_extension": ".py",
   "mimetype": "text/x-python",
   "name": "python",
   "nbconvert_exporter": "python",
   "pygments_lexer": "ipython3",
   "version": "3.7.1"
  }
 },
 "nbformat": 4,
 "nbformat_minor": 2
}
